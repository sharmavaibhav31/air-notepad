{
 "cells": [
  {
   "cell_type": "code",
   "execution_count": 6,
   "id": "72e5f3c5-b5c8-404a-8ce1-128ac75cde87",
   "metadata": {},
   "outputs": [
    {
     "ename": "SyntaxError",
     "evalue": "unmatched ')' (1304439558.py, line 59)",
     "output_type": "error",
     "traceback": [
      "\u001b[1;36m  Cell \u001b[1;32mIn[6], line 59\u001b[1;36m\u001b[0m\n\u001b[1;33m    cv2.destroyAllWindows())\u001b[0m\n\u001b[1;37m                           ^\u001b[0m\n\u001b[1;31mSyntaxError\u001b[0m\u001b[1;31m:\u001b[0m unmatched ')'\n"
     ]
    }
   ],
   "source": [
    "#!pip install opencv-python mediapipe\n",
    "import cv2\n",
    "import mediapipe as mp\n",
    "\n",
    "# Initialize MediaPipe Hands module\n",
    "mp_hands = mp.solutions.hands\n",
    "hands = mp_hands.Hands(min_detection_confidence=0.7, min_tracking_confidence=0.7)\n",
    "mp_draw = mp.solutions.drawing_utils\n",
    "\n",
    "# Start webcam capture\n",
    "cap = cv2.VideoCapture(0)\n",
    "\n",
    "def recognize_gesture(landmarks):\n",
    "    \"\"\"Identify if the hand is showing the letter 'A' (thumb up, fist closed).\"\"\"\n",
    "    thumb_tip = landmarks[4]  # Thumb tip\n",
    "    index_tip = landmarks[8]  # Index finger tip\n",
    "    middle_tip = landmarks[12]\n",
    "    ring_tip = landmarks[16]\n",
    "    pinky_tip = landmarks[20]\n",
    "\n",
    "    # Check if all fingers are curled (y-coordinates higher)\n",
    "    if (\n",
    "        index_tip.y > landmarks[6].y and \n",
    "        middle_tip.y > landmarks[10].y and\n",
    "        ring_tip.y > landmarks[14].y and\n",
    "        pinky_tip.y > landmarks[18].y\n",
    "    ):\n",
    "        return \"A\"  # Letter A detected\n",
    "    return \"Unknown\"\n",
    "    \n",
    "while True:\n",
    "    ret, frame = cap.read()\n",
    "    if not ret:\n",
    "        break\n",
    "\n",
    "    frame = cv2.flip(frame, 1)  # Mirror effect\n",
    "    rgb_frame = cv2.cvtColor(frame, cv2.COLOR_BGR2RGB)\n",
    "    results = hands.process(rgb_frame)\n",
    "\n",
    "    gesture = \"Unknown\"\n",
    "    if results.multi_hand_landmarks:\n",
    "        for hand_landmarks in results.multi_hand_landmarks:\n",
    "            mp_draw.draw_landmarks(frame, hand_landmarks, mp_hands.HAND_CONNECTIONS)\n",
    "\n",
    "            # Convert landmark positions to a list\n",
    "            landmarks = [landmark for landmark in hand_landmarks.landmark]\n",
    "            gesture = recognize_gesture(landmarks)\n",
    "\n",
    "    # Display the detected gesture\n",
    "    cv2.putText(frame, f\"Gesture: {gesture}\", (10, 50), cv2.FONT_HERSHEY_SIMPLEX, 1, (0, 255, 0), 2)\n",
    "    cv2.imshow(\"Hand Gesture Recognition\", frame)\n",
    "\n",
    "    # Exit conditions\n",
    "    key = cv2.waitKey(1) & 0xFF\n",
    "    if key == ord('q') or cv2.getWindowProperty(\"Hand Gesture Recognition\", cv2.WND_PROP_VISIBLE) < 1:\n",
    "        break\n",
    "\n",
    "cap.release()\n",
    "cv2.destroyAllWindows()"
   ]
  },
  {
   "cell_type": "code",
   "execution_count": null,
   "id": "848439d8-65af-4040-9f37-b10b4ae3c98d",
   "metadata": {},
   "outputs": [],
   "source": []
  }
 ],
 "metadata": {
  "kernelspec": {
   "display_name": "Python 3 (ipykernel)",
   "language": "python",
   "name": "python3"
  },
  "language_info": {
   "codemirror_mode": {
    "name": "ipython",
    "version": 3
   },
   "file_extension": ".py",
   "mimetype": "text/x-python",
   "name": "python",
   "nbconvert_exporter": "python",
   "pygments_lexer": "ipython3",
   "version": "3.9.9"
  }
 },
 "nbformat": 4,
 "nbformat_minor": 5
}
